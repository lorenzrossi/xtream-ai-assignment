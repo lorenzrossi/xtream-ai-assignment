{
 "cells": [
  {
   "cell_type": "markdown",
   "metadata": {},
   "source": [
    "# Task 3\n",
    "\n",
    "## Forecast 1 day ahead"
   ]
  },
  {
   "cell_type": "code",
   "execution_count": 1,
   "metadata": {},
   "outputs": [],
   "source": [
    "import datetime\n",
    "import pandas as pd\n",
    "import os\n",
    "import numpy as np\n",
    "from matplotlib import pyplot\n",
    "from math import sqrt\n",
    "import matplotlib.pyplot as plt\n",
    "%matplotlib inline\n",
    "import os\n",
    "import seaborn as sns\n",
    "import statsmodels.api as sm\n",
    "import warnings\n",
    "\n",
    "from sklearn.metrics import mean_squared_error, r2_score\n",
    "from sklearn.preprocessing import StandardScaler, MinMaxScaler\n",
    "\n",
    "import tensorflow as tf\n",
    "from keras.layers import Input, Conv1D, MaxPooling1D, Flatten, Dense, LSTM, Dropout, BatchNormalization, TimeDistributed\n",
    "from keras.models import Model, Sequential"
   ]
  },
  {
   "cell_type": "code",
   "execution_count": 4,
   "metadata": {},
   "outputs": [],
   "source": [
    "os.chdir('C:\\\\Users\\\\loren\\\\xtreamassignment\\\\xtream-ai-assignment\\\\datasets\\\\italian-power-load')\n",
    "load = 'load'\n",
    "date = 'Date'\n",
    "\n",
    "# define the column of interest\n",
    "energy = 'Load'\n",
    "\n",
    "# create the function to retrieve the data and set the date in a format that I prefer to work with (instead of uploadinf the dataset directly)\n",
    "\n",
    "def retrieve_data(source):\n",
    "\n",
    "\n",
    "    df = pd.read_csv((f\"{source}.csv\"), parse_dates = [date])\n",
    "\n",
    "    df[date] = pd.to_datetime(df[date], utc=True, infer_datetime_format=True)\n",
    "\n",
    "    df[date] = df[date].dt.strftime('%Y-%m-%d')\n",
    "\n",
    "    df[date] = df[date].drop_duplicates()\n",
    "\n",
    "    #df = df.sort_values(by=[date])\n",
    "\n",
    "    df = df.set_index(pd.DatetimeIndex(df[date]))\n",
    "\n",
    "    df = df.drop(columns=['Date'])\n",
    "\n",
    "    return df\n",
    "\n",
    "df = retrieve_data(load)"
   ]
  },
  {
   "cell_type": "code",
   "execution_count": 5,
   "metadata": {},
   "outputs": [],
   "source": [
    "# Defining the plots for train/validation\n",
    "\n",
    "def plot_model_rmse_and_loss(history):\n",
    "    \n",
    "    #evaluating train and validation accuracies and losses\n",
    "    \n",
    "    train_rmse = history.history['root_mean_squared_error']\n",
    "    val_rmse = history.history['val_root_mean_squared_error']\n",
    "    \n",
    "    train_loss = history.history['loss']\n",
    "    val_loss = history.history['val_loss']\n",
    "    \n",
    "    #visualizing epochs vs. train and validation accuracies and losses\n",
    "    \n",
    "    plt.figure(figsize=(20, 10))\n",
    "    plt.subplot(1, 2, 1)\n",
    "    plt.plot(train_rmse, label='Training RMSE')\n",
    "    plt.plot(val_rmse, label='Validation RMSE')\n",
    "    plt.legend()\n",
    "    plt.title('Epochs / Training RMSE')\n",
    "    \n",
    "    plt.subplot(1, 2, 2)\n",
    "    plt.plot(train_loss, label='Training Loss')\n",
    "    plt.plot(val_loss, label='Validation Loss')\n",
    "    plt.legend()\n",
    "    plt.title('Epochs / Training Loss')\n",
    "\n",
    "    plt.show()\n",
    "\n",
    "def plot_preds_vs_actual(true, preds):\n",
    "    plt.figure(figsize=(12,6))\n",
    "    plt.plot(true, label='Real')\n",
    "    plt.plot(preds, label='Predicted', color='red')\n",
    "    plt.title('Predicted vs Real Values')\n",
    "    plt.title('Actual vs Predicted Values')\n",
    "    plt.xlabel('Time')\n",
    "    plt.ylabel('Total Aggregated')\n",
    "    plt.legend()\n",
    "    plt.show()"
   ]
  },
  {
   "cell_type": "code",
   "execution_count": 6,
   "metadata": {},
   "outputs": [],
   "source": [
    "# I discard the yeras after 2019\n",
    "\n",
    "data_task = df[:'2019']"
   ]
  },
  {
   "cell_type": "code",
   "execution_count": null,
   "metadata": {},
   "outputs": [],
   "source": [
    "# define the scalers that will be used\n",
    "ss = StandardScaler()\n",
    "mms = MinMaxScaler(feature_range=(0,1))"
   ]
  },
  {
   "cell_type": "code",
   "execution_count": null,
   "metadata": {},
   "outputs": [],
   "source": [
    "# I'll use 2018 as validation, 2019 as test and the remaining years as training\n",
    "\n",
    "# I create a function to scale the original dataset and perform some feature engineering\n",
    "def create_scaled_array(df, selected_column, stop_year, your_scaler):\n",
    "\n",
    "    # Define the number of train observations\n",
    "    n_train = len(df) - len(df[stop_year:])\n",
    "\n",
    "    # Create the array of the observations\n",
    "    feature_array = df[selected_column].values.reshape(-1,1)\n",
    "\n",
    "    # Scale the features: it's helpful when dealing with NN to prevent underfitting\n",
    "    scaler = your_scaler\n",
    "\n",
    "    scaler.fit(feature_array[:n_train])\n",
    "    scaled_array = scaler.transform(feature_array)\n",
    "\n",
    "    return scaled_array"
   ]
  }
 ],
 "metadata": {
  "kernelspec": {
   "display_name": "global_packs",
   "language": "python",
   "name": "python3"
  },
  "language_info": {
   "codemirror_mode": {
    "name": "ipython",
    "version": 3
   },
   "file_extension": ".py",
   "mimetype": "text/x-python",
   "name": "python",
   "nbconvert_exporter": "python",
   "pygments_lexer": "ipython3",
   "version": "3.10.6"
  }
 },
 "nbformat": 4,
 "nbformat_minor": 2
}
